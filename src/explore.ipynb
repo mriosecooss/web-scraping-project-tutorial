{
    "cells": [
        {
            "cell_type": "markdown",
            "metadata": {},
            "source": [
                "# Explore here\n",
                "\n",
                "It's recommended to use this notebook for exploration purposes."
            ]
        },
        {
            "cell_type": "code",
            "execution_count": null,
            "metadata": {},
            "outputs": [],
            "source": [
                "import os\n",
                "from bs4 import BeautifulSoup\n",
                "import requests\n",
                "import time\n",
                "import sqlite3\n",
                "import matplotlib.pyplot as plt\n",
                "import seaborn as sns\n",
                "\n",
                "url = 'https://ycharts.com/companies/TSLA/revenues'\n",
                "html_data = requests.get(url, time.sleep(10)).text\n",
                "\n",
                "if \"403 ERROR\" in html_data:\n",
                "    headers = {\"User-Agent\" : \"Mozilla/5.0 (X11; Linux x86_64; rv:12.0) Gecko/20100101 Firefox/12.0\"}\n",
                "    html_data = requests.get(url, headers=headers)\n",
                "    time.sleep(10)\n",
                "    html_data = html_data.text\n",
                "\n",
                "html_data\n",
                "\n",
                "\n"
            ]
        },
        {
            "cell_type": "code",
            "execution_count": null,
            "metadata": {},
            "outputs": [],
            "source": [
                "soup = BeautifulSoup(html_data, 'html.parser')\n",
                "soup"
            ]
        },
        {
            "cell_type": "code",
            "execution_count": null,
            "metadata": {},
            "outputs": [],
            "source": [
                "tables = soup.find_all('table')\n",
                "tables"
            ]
        },
        {
            "cell_type": "code",
            "execution_count": null,
            "metadata": {},
            "outputs": [],
            "source": [
                "for index, table in enumerate(tables):\n",
                "    if(\"Date\" in str(table)):\n",
                "        table_index = index\n",
                "        break\n",
                "    print(table)\n",
                "table_index"
            ]
        },
        {
            "cell_type": "code",
            "execution_count": 48,
            "metadata": {},
            "outputs": [
                {
                    "name": "stderr",
                    "output_type": "stream",
                    "text": [
                        "C:\\Users\\Miguel\\AppData\\Local\\Temp\\ipykernel_3924\\1178543308.py:9: FutureWarning: The behavior of DataFrame concatenation with empty or all-NA entries is deprecated. In a future version, this will no longer exclude empty or all-NA columns when determining the result dtypes. To retain the old behavior, exclude the relevant entries before the concat operation.\n",
                        "  tesla_df = pd.concat([tesla_df, pd.DataFrame([[date, revenue]], columns=[\"Date\", \"Revenue\"])], ignore_index=True)\n"
                    ]
                },
                {
                    "data": {
                        "text/html": [
                            "<div>\n",
                            "<style scoped>\n",
                            "    .dataframe tbody tr th:only-of-type {\n",
                            "        vertical-align: middle;\n",
                            "    }\n",
                            "\n",
                            "    .dataframe tbody tr th {\n",
                            "        vertical-align: top;\n",
                            "    }\n",
                            "\n",
                            "    .dataframe thead th {\n",
                            "        text-align: right;\n",
                            "    }\n",
                            "</style>\n",
                            "<table border=\"1\" class=\"dataframe\">\n",
                            "  <thead>\n",
                            "    <tr style=\"text-align: right;\">\n",
                            "      <th></th>\n",
                            "      <th>Date</th>\n",
                            "      <th>Revenue</th>\n",
                            "    </tr>\n",
                            "  </thead>\n",
                            "  <tbody>\n",
                            "    <tr>\n",
                            "      <th>0</th>\n",
                            "      <td>December 31, 2023</td>\n",
                            "      <td>25.170</td>\n",
                            "    </tr>\n",
                            "    <tr>\n",
                            "      <th>1</th>\n",
                            "      <td>September 30, 2023</td>\n",
                            "      <td>23.350</td>\n",
                            "    </tr>\n",
                            "    <tr>\n",
                            "      <th>2</th>\n",
                            "      <td>June 30, 2023</td>\n",
                            "      <td>24.930</td>\n",
                            "    </tr>\n",
                            "    <tr>\n",
                            "      <th>3</th>\n",
                            "      <td>March 31, 2023</td>\n",
                            "      <td>23.330</td>\n",
                            "    </tr>\n",
                            "    <tr>\n",
                            "      <th>4</th>\n",
                            "      <td>December 31, 2022</td>\n",
                            "      <td>24.320</td>\n",
                            "    </tr>\n",
                            "    <tr>\n",
                            "      <th>5</th>\n",
                            "      <td>September 30, 2022</td>\n",
                            "      <td>21.450</td>\n",
                            "    </tr>\n",
                            "    <tr>\n",
                            "      <th>6</th>\n",
                            "      <td>June 30, 2022</td>\n",
                            "      <td>16.930</td>\n",
                            "    </tr>\n",
                            "    <tr>\n",
                            "      <th>7</th>\n",
                            "      <td>March 31, 2022</td>\n",
                            "      <td>18.760</td>\n",
                            "    </tr>\n",
                            "    <tr>\n",
                            "      <th>8</th>\n",
                            "      <td>December 31, 2021</td>\n",
                            "      <td>17.720</td>\n",
                            "    </tr>\n",
                            "    <tr>\n",
                            "      <th>9</th>\n",
                            "      <td>September 30, 2021</td>\n",
                            "      <td>13.760</td>\n",
                            "    </tr>\n",
                            "    <tr>\n",
                            "      <th>10</th>\n",
                            "      <td>June 30, 2021</td>\n",
                            "      <td>11.960</td>\n",
                            "    </tr>\n",
                            "    <tr>\n",
                            "      <th>11</th>\n",
                            "      <td>March 31, 2021</td>\n",
                            "      <td>10.390</td>\n",
                            "    </tr>\n",
                            "    <tr>\n",
                            "      <th>12</th>\n",
                            "      <td>December 31, 2020</td>\n",
                            "      <td>10.740</td>\n",
                            "    </tr>\n",
                            "    <tr>\n",
                            "      <th>13</th>\n",
                            "      <td>September 30, 2020</td>\n",
                            "      <td>8.771</td>\n",
                            "    </tr>\n",
                            "    <tr>\n",
                            "      <th>14</th>\n",
                            "      <td>June 30, 2020</td>\n",
                            "      <td>6.036</td>\n",
                            "    </tr>\n",
                            "    <tr>\n",
                            "      <th>15</th>\n",
                            "      <td>March 31, 2020</td>\n",
                            "      <td>5.985</td>\n",
                            "    </tr>\n",
                            "    <tr>\n",
                            "      <th>16</th>\n",
                            "      <td>December 31, 2019</td>\n",
                            "      <td>7.384</td>\n",
                            "    </tr>\n",
                            "    <tr>\n",
                            "      <th>17</th>\n",
                            "      <td>September 30, 2019</td>\n",
                            "      <td>6.303</td>\n",
                            "    </tr>\n",
                            "    <tr>\n",
                            "      <th>18</th>\n",
                            "      <td>June 30, 2019</td>\n",
                            "      <td>6.350</td>\n",
                            "    </tr>\n",
                            "    <tr>\n",
                            "      <th>19</th>\n",
                            "      <td>March 31, 2019</td>\n",
                            "      <td>4.541</td>\n",
                            "    </tr>\n",
                            "    <tr>\n",
                            "      <th>20</th>\n",
                            "      <td>December 31, 2018</td>\n",
                            "      <td>7.226</td>\n",
                            "    </tr>\n",
                            "    <tr>\n",
                            "      <th>21</th>\n",
                            "      <td>September 30, 2018</td>\n",
                            "      <td>6.824</td>\n",
                            "    </tr>\n",
                            "    <tr>\n",
                            "      <th>22</th>\n",
                            "      <td>June 30, 2018</td>\n",
                            "      <td>4.002</td>\n",
                            "    </tr>\n",
                            "    <tr>\n",
                            "      <th>23</th>\n",
                            "      <td>March 31, 2018</td>\n",
                            "      <td>3.409</td>\n",
                            "    </tr>\n",
                            "    <tr>\n",
                            "      <th>24</th>\n",
                            "      <td>December 31, 2017</td>\n",
                            "      <td>3.288</td>\n",
                            "    </tr>\n",
                            "  </tbody>\n",
                            "</table>\n",
                            "</div>"
                        ],
                        "text/plain": [
                            "                  Date  Revenue\n",
                            "0    December 31, 2023   25.170\n",
                            "1   September 30, 2023   23.350\n",
                            "2        June 30, 2023   24.930\n",
                            "3       March 31, 2023   23.330\n",
                            "4    December 31, 2022   24.320\n",
                            "5   September 30, 2022   21.450\n",
                            "6        June 30, 2022   16.930\n",
                            "7       March 31, 2022   18.760\n",
                            "8    December 31, 2021   17.720\n",
                            "9   September 30, 2021   13.760\n",
                            "10       June 30, 2021   11.960\n",
                            "11      March 31, 2021   10.390\n",
                            "12   December 31, 2020   10.740\n",
                            "13  September 30, 2020    8.771\n",
                            "14       June 30, 2020    6.036\n",
                            "15      March 31, 2020    5.985\n",
                            "16   December 31, 2019    7.384\n",
                            "17  September 30, 2019    6.303\n",
                            "18       June 30, 2019    6.350\n",
                            "19      March 31, 2019    4.541\n",
                            "20   December 31, 2018    7.226\n",
                            "21  September 30, 2018    6.824\n",
                            "22       June 30, 2018    4.002\n",
                            "23      March 31, 2018    3.409\n",
                            "24   December 31, 2017    3.288"
                        ]
                    },
                    "execution_count": 48,
                    "metadata": {},
                    "output_type": "execute_result"
                }
            ],
            "source": [
                "import pandas as pd\n",
                "\n",
                "tesla_df = pd.DataFrame(columns=[\"Date\", \"Revenue\"])\n",
                "for row in tables[table_index].find_all('tr'):\n",
                "    col = row.find_all('td')\n",
                "    if (col !=[]):\n",
                "        date = col[0].text\n",
                "        revenue = float(col[1].text.strip().replace('B',''))\n",
                "        tesla_df = pd.concat([tesla_df, pd.DataFrame([[date, revenue]], columns=[\"Date\", \"Revenue\"])], ignore_index=True)\n",
                "\n",
                "tesla_df"
            ]
        },
        {
            "cell_type": "code",
            "execution_count": 45,
            "metadata": {},
            "outputs": [
                {
                    "data": {
                        "text/plain": [
                            "25"
                        ]
                    },
                    "execution_count": 45,
                    "metadata": {},
                    "output_type": "execute_result"
                }
            ],
            "source": [
                "import sqlite3\n",
                "\n",
                "conn = sqlite3.connect('tesla.db')\n",
                "c = conn.cursor()\n",
                "\n",
                "c.execute('CREATE TABLE IF NOT EXISTS tesla_revenue (date TEXT, revenue REAL)')\n",
                "conn.commit()\n",
                "\n",
                "tesla_df.to_sql('tesla_revenue', conn, if_exists='append', index = False)"
            ]
        },
        {
            "cell_type": "code",
            "execution_count": 47,
            "metadata": {},
            "outputs": [
                {
                    "data": {
                        "text/plain": [
                            "[('December 31, 2023', 25.17),\n",
                            " ('September 30, 2023', 23.35),\n",
                            " ('June 30, 2023', 24.93),\n",
                            " ('March 31, 2023', 23.33),\n",
                            " ('December 31, 2022', 24.32),\n",
                            " ('September 30, 2022', 21.45),\n",
                            " ('June 30, 2022', 16.93),\n",
                            " ('March 31, 2022', 18.76),\n",
                            " ('December 31, 2021', 17.72),\n",
                            " ('September 30, 2021', 13.76),\n",
                            " ('June 30, 2021', 11.96),\n",
                            " ('March 31, 2021', 10.39),\n",
                            " ('December 31, 2020', 10.74),\n",
                            " ('September 30, 2020', 8.771),\n",
                            " ('June 30, 2020', 6.036),\n",
                            " ('March 31, 2020', 5.985),\n",
                            " ('December 31, 2019', 7.384),\n",
                            " ('September 30, 2019', 6.303),\n",
                            " ('June 30, 2019', 6.35),\n",
                            " ('March 31, 2019', 4.541),\n",
                            " ('December 31, 2018', 7.226),\n",
                            " ('September 30, 2018', 6.824),\n",
                            " ('June 30, 2018', 4.002),\n",
                            " ('March 31, 2018', 3.409),\n",
                            " ('December 31, 2017', 3.288)]"
                        ]
                    },
                    "execution_count": 47,
                    "metadata": {},
                    "output_type": "execute_result"
                }
            ],
            "source": [
                "c.execute('SELECT * FROM tesla_revenue').fetchall()"
            ]
        },
        {
            "cell_type": "code",
            "execution_count": 49,
            "metadata": {},
            "outputs": [
                {
                    "data": {
                        "image/png": "[encoded data removed]",
                        "text/plain": [
                            "<Figure size 640x480 with 1 Axes>"
                        ]
                    },
                    "metadata": {},
                    "output_type": "display_data"
                }
            ],
            "source": [
                "import matplotlib.pyplot as plt\n",
                "import seaborn as sns\n",
                "\n",
                "tesla_df['Date'] = pd.to_datetime(tesla_df['Date'])\n",
                "\n",
                "sns.lineplot(x='Date', y='Revenue', data=tesla_df)\n",
                "plt.title(\"Tesla Revenue Over Time\")\n",
                "plt.tight_layout()\n",
                "plt.xticks(rotation=45)\n",
                "plt.show()"
            ]
        },
        {
            "cell_type": "code",
            "execution_count": 50,
            "metadata": {},
            "outputs": [
                {
                    "data": {
                        "image/png": "[encoded data removed]",
                        "text/plain": [
                            "<Figure size 640x480 with 1 Axes>"
                        ]
                    },
                    "metadata": {},
                    "output_type": "display_data"
                }
            ],
            "source": [
                "plt.scatter(tesla_df['Date'],tesla_df['Revenue'])\n",
                "plt.title(\"Tesla Revenue Over Time\")\n",
                "plt.tight_layout()\n",
                "plt.xticks(rotation=45)\n",
                "plt.show()"
            ]
        },
        {
            "cell_type": "code",
            "execution_count": 57,
            "metadata": {},
            "outputs": [
                {
                    "name": "stdout",
                    "output_type": "stream",
                    "text": [
                        "Date\n",
                        "2017     3.288\n",
                        "2018    21.461\n",
                        "2019    24.578\n",
                        "2020    31.532\n",
                        "2021    53.830\n",
                        "Name: Revenue, dtype: float64\n"
                    ]
                },
                {
                    "data": {
                        "image/png": "[encoded data removed]",
                        "text/plain": [
                            "<Figure size 640x480 with 1 Axes>"
                        ]
                    },
                    "metadata": {},
                    "output_type": "display_data"
                }
            ],
            "source": [
                "tesla_revenue_anual = tesla_df.groupby(tesla_df['Date'].dt.year)['Revenue'].sum()\n",
                "print(tesla_revenue_anual.head())\n",
                "\n",
                "sns.barplot(x=tesla_revenue_anual.index, y=tesla_revenue_anual.values)\n",
                "plt.show()"
            ]
        },
        {
            "cell_type": "code",
            "execution_count": null,
            "metadata": {},
            "outputs": [],
            "source": [
                "tesla_revenue_anual = tesla_df.groupby(tesla_df['Date'].dt.year)['Revenue'].sum()\n",
                "print(tesla_revenue_anual.head())\n",
                "sns.barplot(x=tesla_revenue_anual.index, y=tesla_revenue_anual.values)\n",
                "plt.show()"
            ]
        },
        {
            "cell_type": "code",
            "execution_count": null,
            "metadata": {},
            "outputs": [],
            "source": [
                "tesla_revenue_anual = tesla_df.groupby(tesla_df['Date'].dt.year)['Revenue'].sum()\n",
                "print(tesla_revenue_anual.head())\n",
                "sns.barplot(x=tesla_revenue_anual.index, y=tesla_revenue_anual.values)\n",
                "plt.show()"
            ]
        }
    ],
    "metadata": {
        "kernelspec": {
            "display_name": "Python 3.8.13 64-bit ('3.8.13')",
            "language": "python",
            "name": "python3"
        },
        "language_info": {
            "codemirror_mode": {
                "name": "ipython",
                "version": 3
            },
            "file_extension": ".py",
            "mimetype": "text/x-python",
            "name": "python",
            "nbconvert_exporter": "python",
            "pygments_lexer": "ipython3",
            "version": "3.12.2"
        },
        "orig_nbformat": 4,
        "vscode": {
            "interpreter": {
                "hash": "110cc1dee26208153f2972f08a2ad52b6a56238dc66d48e87fb757ef2996db56"
            }
        }
    },
    "nbformat": 4,
    "nbformat_minor": 2
}
